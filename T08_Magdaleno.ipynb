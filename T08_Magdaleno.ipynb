{
 "cells": [
  {
   "cell_type": "markdown",
   "id": "987e9fae",
   "metadata": {},
   "source": [
    "## Tarea.\n",
    "> - Consultar tasas de interés reales en algún banco y proyectar un ahorro mensual para que al terminar su carrera tengan $\\$85000$ MXN en su cuenta.\n",
    "> - Hacer esto en un nuevo archivo, llamarlo Gi_T7ApellidoNombre.ipynb y subirlo a canvas. Donde $i=1,2$ es el número del grupo al que pertenece \n",
    "> - Plazo: \n",
    "> # Entrega 1 de noviembre a las 19:59 en parejas"
   ]
  },
  {
   "cell_type": "markdown",
   "id": "dc2a3574",
   "metadata": {},
   "source": [
    "Un estudiante va a entrar a la carrera de ingenieria civil que dura 9 semestres, quiere lograr un ahorro de $85,000.00 al terminar su carrera. \n",
    "En bbva la tasa de interes de la cuenta de ahorro de 2.5%.\n",
    "k= 54 meses\n",
    "\n",
    "1. ¿Cuál debe ser el monto de ahorro mensual para cumplir la meta en una cuenta de interes simple?"
   ]
  },
  {
   "cell_type": "code",
   "execution_count": 3,
   "id": "d6b0d628",
   "metadata": {},
   "outputs": [
    {
     "name": "stdout",
     "output_type": "stream",
     "text": [
      "El monto de ahorro mensual es igual a   34581 . Al final del perído  54  el capital es  85000.1\n"
     ]
    }
   ],
   "source": [
    "# Importar librería numpy\n",
    "import numpy as np\n",
    "\n",
    "# Datos del problema\n",
    "i = 0.027\n",
    "Cf = 85000\n",
    "k= 54\n",
    "\n",
    "# Despejar k tal que C_k=meta\n",
    "C0 = np.ceil((Cf/(1+(k*i))))\n",
    "C0 = C0.astype(int)\n",
    "Ck = C0*(1+k*i)\n",
    "Ck = round(Ck,2)\n",
    "# Imprimimos respuesta en pantalla\n",
    "print(\"El monto de ahorro mensual es igual a  \",C0,\". Al final del perído \",k,\" el capital es \",Ck)"
   ]
  },
  {
   "cell_type": "markdown",
   "id": "5f3bc095",
   "metadata": {},
   "source": [
    "Si volvemos a hacer el ejercicio con un interes compuesto"
   ]
  },
  {
   "cell_type": "code",
   "execution_count": 4,
   "id": "0f3cdefd",
   "metadata": {},
   "outputs": [
    {
     "name": "stdout",
     "output_type": "stream",
     "text": [
      "El monto del ahorro inicial y mensual es de  20166 . Al final del período  54  el capital  85000.94\n"
     ]
    }
   ],
   "source": [
    "#Solución\n",
    "i = 0.027\n",
    "Cf = 85000\n",
    "k= 54\n",
    "\n",
    "C0 = np.ceil((Cf/(1+i)**k))\n",
    "C0 = C0.astype(int)\n",
    "\n",
    "Ck = C0*(1+i)**k\n",
    "Ck = round(Ck,2)\n",
    "\n",
    "print(\"El monto del ahorro inicial y mensual es de \",C0,\". Al final del período \",k,\" el capital \",Ck)"
   ]
  }
 ],
 "metadata": {
  "kernelspec": {
   "display_name": "Python 3 (ipykernel)",
   "language": "python",
   "name": "python3"
  },
  "language_info": {
   "codemirror_mode": {
    "name": "ipython",
    "version": 3
   },
   "file_extension": ".py",
   "mimetype": "text/x-python",
   "name": "python",
   "nbconvert_exporter": "python",
   "pygments_lexer": "ipython3",
   "version": "3.11.5"
  }
 },
 "nbformat": 4,
 "nbformat_minor": 5
}
